{
  "nbformat": 4,
  "nbformat_minor": 0,
  "metadata": {
    "colab": {
      "name": "QHEAP1.ipynb",
      "provenance": [],
      "authorship_tag": "ABX9TyPFSeDnue2tfhaK8DpiM1Zs",
      "include_colab_link": true
    },
    "kernelspec": {
      "name": "python3",
      "display_name": "Python 3"
    }
  },
  "cells": [
    {
      "cell_type": "markdown",
      "metadata": {
        "id": "view-in-github",
        "colab_type": "text"
      },
      "source": [
        "<a href=\"https://colab.research.google.com/github/jaideep6214/Hackerrank/blob/main/QHEAP1.ipynb\" target=\"_parent\"><img src=\"https://colab.research.google.com/assets/colab-badge.svg\" alt=\"Open In Colab\"/></a>"
      ]
    },
    {
      "cell_type": "markdown",
      "metadata": {
        "id": "UX8fTJjX502H"
      },
      "source": [
        "## **Terminated due to Time Out**"
      ]
    },
    {
      "cell_type": "code",
      "metadata": {
        "id": "jd5uf2EO3Ps5",
        "outputId": "89a8fee1-1adc-43a0-fb3f-98aebfee654e",
        "colab": {
          "base_uri": "https://localhost:8080/",
          "height": 153
        }
      },
      "source": [
        "import heapq\n",
        "heap_l = []\n",
        "ans=[]\n",
        "n=int(input())  # N queries\n",
        "for i in range(n):\n",
        "  q=input()\n",
        "  q=list(map(int,q.split()))\n",
        "  if(q[0]==1):\n",
        "    heapq.heappush(heap_l,q[1])\n",
        "  elif(q[0]==2):\n",
        "    for i in range(len(heap_l)):\n",
        "      if(heap_l[i]==q[1]):\n",
        "        del(heap_l[i])\n",
        "        break\n",
        "    heapq.heapify(heap_l)\n",
        "  elif(q[0]==3):\n",
        "    ans.append(heap_l[0])\n",
        "for i in ans:\n",
        "  print(i)\n",
        "\n",
        "\n",
        "\n"
      ],
      "execution_count": 8,
      "outputs": [
        {
          "output_type": "stream",
          "text": [
            "5\n",
            "1 4\n",
            "1 9\n",
            "3\n",
            "2 4\n",
            "3\n",
            "4\n",
            "9\n"
          ],
          "name": "stdout"
        }
      ]
    },
    {
      "cell_type": "markdown",
      "metadata": {
        "id": "yInK--Hb706I"
      },
      "source": [
        "## **Taking too much time in searching and then  heapify**"
      ]
    },
    {
      "cell_type": "code",
      "metadata": {
        "id": "BJnPh7fT69Ss",
        "outputId": "b1fe5880-0932-42a7-fdf9-2e31c2d48304",
        "colab": {
          "base_uri": "https://localhost:8080/",
          "height": 153
        }
      },
      "source": [
        "import heapq\n",
        "heap_l = []\n",
        "ans=[]\n",
        "d={}\n",
        "n=int(input())  # N queries\n",
        "for i in range(n):\n",
        "  q=input()\n",
        "  q=list(map(int,q.split()))\n",
        "  if(q[0]==1):\n",
        "    heapq.heappush(heap_l,q[1])\n",
        "    d[q[1]]=0\n",
        "  elif(q[0]==2):\n",
        "    d[q[1]]=1\n",
        "  elif(q[0]==3):\n",
        "    while(d[heap_l[0]]==1):\n",
        "      heapq.heappop(heap_l)\n",
        "    ans.append(heap_l[0])\n",
        "for i in ans:\n",
        "  print(i)"
      ],
      "execution_count": 11,
      "outputs": [
        {
          "output_type": "stream",
          "text": [
            "5\n",
            "1 4\n",
            "1 9\n",
            "3\n",
            "2 4\n",
            "3\n",
            "4\n",
            "9\n"
          ],
          "name": "stdout"
        }
      ]
    },
    {
      "cell_type": "code",
      "metadata": {
        "id": "dz22BEZc7ZJp"
      },
      "source": [
        "5\n"
      ],
      "execution_count": null,
      "outputs": []
    }
  ]
}
